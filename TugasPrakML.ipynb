{
  "nbformat": 4,
  "nbformat_minor": 0,
  "metadata": {
    "colab": {
      "provenance": [],
      "authorship_tag": "ABX9TyOKeb3w6HFXMT54cWc2vKTR",
      "include_colab_link": true
    },
    "kernelspec": {
      "name": "python3",
      "display_name": "Python 3"
    },
    "language_info": {
      "name": "python"
    }
  },
  "cells": [
    {
      "cell_type": "markdown",
      "metadata": {
        "id": "view-in-github",
        "colab_type": "text"
      },
      "source": [
        "<a href=\"https://colab.research.google.com/github/dhiyasaa/pembelajaran-mesin-dhiya-safira-andini-2211533023/blob/main/TugasPrakML.ipynb\" target=\"_parent\"><img src=\"https://colab.research.google.com/assets/colab-badge.svg\" alt=\"Open In Colab\"/></a>"
      ]
    },
    {
      "cell_type": "code",
      "execution_count": 2,
      "metadata": {
        "id": "21FXXygKlfEw"
      },
      "outputs": [],
      "source": [
        "import pandas as pd\n",
        "from sklearn.tree import DecisionTreeClassifier\n",
        "from sklearn.preprocessing import LabelEncoder"
      ]
    },
    {
      "cell_type": "code",
      "source": [
        "data = {\n",
        "    'age': ['<=30', '<=30', '31...40', '>40', '>40', '>40', '31...40', '<=30', '<=30', '>40', '<=30', '31...40', '31...40', '>40'],\n",
        "    'income': ['high', 'high', 'high', 'medium', 'low', 'low', 'low', 'medium', 'low', 'medium', 'medium', 'high', 'medium', 'medium'],\n",
        "    'student': ['no', 'no', 'no', 'no', 'yes', 'yes', 'yes', 'no', 'yes', 'yes', 'no', 'no', 'yes', 'no'],\n",
        "    'credit_rating': ['fair', 'excellent', 'fair', 'fair', 'fair', 'excellent', 'excellent', 'fair', 'fair', 'fair', 'excellent', 'excellent', 'fair', 'excellent'],\n",
        "    'buys_computer': ['no', 'no', 'yes', 'yes', 'yes', 'no', 'yes', 'no', 'yes', 'yes', 'yes', 'yes', 'yes', 'no']\n",
        "}\n",
        "\n",
        "df = pd.DataFrame(data)"
      ],
      "metadata": {
        "id": "ZhyrIrZUlptN"
      },
      "execution_count": 3,
      "outputs": []
    },
    {
      "cell_type": "code",
      "source": [
        "label_encoders = {}\n",
        "for column in df.columns:\n",
        "    le = LabelEncoder()\n",
        "    df[column] = le.fit_transform(df[column])\n",
        "    label_encoders[column] = le\n",
        "\n",
        "# Memisahkan data menjadi fitur dan variabel target\n",
        "X = df.drop('buys_computer', axis=1)\n",
        "y = df['buys_computer']"
      ],
      "metadata": {
        "id": "yoOHShV5lwk_"
      },
      "execution_count": 4,
      "outputs": []
    },
    {
      "cell_type": "code",
      "source": [
        "\n",
        "clf = DecisionTreeClassifier(criterion='entropy')\n",
        "clf = clf.fit(X, y)\n",
        "\n",
        "from sklearn.tree import export_text\n",
        "tree_rules = export_text(clf, feature_names=list(X.columns))\n",
        "print(tree_rules)"
      ],
      "metadata": {
        "colab": {
          "base_uri": "https://localhost:8080/"
        },
        "id": "m4NvdDpFl4zq",
        "outputId": "3689ffae-2409-4571-c6ac-ced3244e6ff2"
      },
      "execution_count": 5,
      "outputs": [
        {
          "output_type": "stream",
          "name": "stdout",
          "text": [
            "|--- age <= 0.50\n",
            "|   |--- class: 1\n",
            "|--- age >  0.50\n",
            "|   |--- income <= 0.50\n",
            "|   |   |--- class: 0\n",
            "|   |--- income >  0.50\n",
            "|   |   |--- credit_rating <= 0.50\n",
            "|   |   |   |--- age <= 1.50\n",
            "|   |   |   |   |--- class: 1\n",
            "|   |   |   |--- age >  1.50\n",
            "|   |   |   |   |--- class: 0\n",
            "|   |   |--- credit_rating >  0.50\n",
            "|   |   |   |--- student <= 0.50\n",
            "|   |   |   |   |--- age <= 1.50\n",
            "|   |   |   |   |   |--- class: 0\n",
            "|   |   |   |   |--- age >  1.50\n",
            "|   |   |   |   |   |--- class: 1\n",
            "|   |   |   |--- student >  0.50\n",
            "|   |   |   |   |--- class: 1\n",
            "\n"
          ]
        }
      ]
    },
    {
      "cell_type": "code",
      "source": [
        "test_set = {\n",
        "    'age': label_encoders['age'].transform(['>40'])[0],\n",
        "    'income': label_encoders['income'].transform(['low'])[0],\n",
        "    'student': label_encoders['student'].transform(['yes'])[0],\n",
        "    'credit_rating': label_encoders['credit_rating'].transform(['fair'])[0]\n",
        "}\n",
        "\n",
        "test_set_df = pd.DataFrame([test_set])"
      ],
      "metadata": {
        "id": "rtCLY2A8mHbC"
      },
      "execution_count": 6,
      "outputs": []
    },
    {
      "cell_type": "code",
      "source": [
        "prediction = clf.predict(test_set_df)\n",
        "\n",
        "result = label_encoders['buys_computer'].inverse_transform([prediction[0]])\n",
        "print(\"Prediksi untuk set uji:\", result[0])"
      ],
      "metadata": {
        "colab": {
          "base_uri": "https://localhost:8080/"
        },
        "id": "n9MI8y2mmMv9",
        "outputId": "21f1e82f-eb5c-4619-a642-1a7ff104bb4a"
      },
      "execution_count": 7,
      "outputs": [
        {
          "output_type": "stream",
          "name": "stdout",
          "text": [
            "Prediksi untuk set uji: yes\n"
          ]
        }
      ]
    }
  ]
}